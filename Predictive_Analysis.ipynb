{
 "cells": [
  {
   "cell_type": "markdown",
   "metadata": {},
   "source": [
    "# Project: Customer Purchase Analytics Part II: Predictive Analysis\n",
    "Author: Wei Chong Ong\n",
    "\n",
    "## Table of Contents\n",
    "<ul>\n",
    "<li><a href=\"#preparation\">Data Preparation</a></li>\n",
    "<li><a href=\"#predictive\">Predictive Analysis - Price Elasticity\n",
    "    <ul>\n",
    "    <li><a href=\"#probability\">Purchase Probability</a></li>\n",
    "    <li><a href=\"#brand\">Brand Choice</a></li>\n",
    "    <li><a href=\"#quantity\">Purchase Quantity</a></li>\n",
    "    </ul>\n",
    "    </a></li>\n",
    "</ul>"
   ]
  },
  {
   "cell_type": "markdown",
   "metadata": {},
   "source": [
    "### Import Libraries"
   ]
  },
  {
   "cell_type": "code",
   "execution_count": 1,
   "metadata": {},
   "outputs": [],
   "source": [
    "import numpy as np\n",
    "import pandas as pd\n",
    "from sklearn.preprocessing import StandardScaler\n",
    "from sklearn.decomposition import PCA\n",
    "from sklearn.cluster import KMeans\n",
    "import pickle\n",
    "from sklearn.linear_model import LogisticRegression \n",
    "import matplotlib.pyplot as plt\n",
    "%matplotlib inline\n",
    "import matplotlib.axes as axs\n",
    "import seaborn as sns\n",
    "sns.set()\n",
    "from sklearn.linear_model import LinearRegression"
   ]
  },
  {
   "cell_type": "markdown",
   "metadata": {},
   "source": [
    "<a id='preparation'></a>\n",
    "## Data Preparation"
   ]
  },
  {
   "cell_type": "code",
   "execution_count": 2,
   "metadata": {},
   "outputs": [],
   "source": [
    "# Load data\n",
    "df_purchase = pd.read_csv('purchase data.csv')\n",
    "\n",
    "# Import Scaler\n",
    "scaler = pickle.load(open('scaler.pickle', 'rb'))\n",
    "\n",
    "# Import PCA\n",
    "pca = pickle.load(open('pca.pickle', 'rb'))\n",
    "\n",
    "# Import K-Means\n",
    "kmeans_pca = pickle.load(open('kmeans_pca.pickle', 'rb'))\n",
    "\n",
    "# Standardization\n",
    "features = df_purchase[['Sex', 'Marital status', 'Age', 'Education', 'Income', 'Occupation', 'Settlement size']]\n",
    "df_purchase_segm_std = scaler.transform(features)\n",
    "\n",
    "# Apply PCA\n",
    "df_purchase_segm_pca = pca.transform(df_purchase_segm_std)\n",
    "\n",
    "# Segment data\n",
    "purchase_segm_kmeans_pca = kmeans_pca.predict(df_purchase_segm_pca)\n",
    "\n",
    "# Create a copy of the data frame\n",
    "df_purchase_predictors = df_purchase.copy()\n",
    "\n",
    "# Add segment labels\n",
    "df_purchase_predictors['Segment'] = purchase_segm_kmeans_pca\n",
    "segment_dummies = pd.get_dummies(purchase_segm_kmeans_pca, prefix = 'Segment', prefix_sep = '_')\n",
    "df_purchase_predictors = pd.concat([df_purchase_predictors, segment_dummies], axis = 1)\n",
    "\n",
    "df_pa = df_purchase_predictors"
   ]
  },
  {
   "cell_type": "markdown",
   "metadata": {},
   "source": [
    "<a id='predictive'></a>\n",
    "## Predictive Analysis - Price Elasticity"
   ]
  },
  {
   "cell_type": "markdown",
   "metadata": {},
   "source": [
    "$Price\\: Elasticity,\\: E = \\frac{Percent\\: change\\: in\\: economic\\: outcome\\: of\\: interest\\: (Units\\: sold)}{1\\: percent\\: change\\: in\\: price}$"
   ]
  },
  {
   "cell_type": "markdown",
   "metadata": {},
   "source": [
    "<a id='probability'></a>\n",
    "### Purchase Probability"
   ]
  },
  {
   "cell_type": "markdown",
   "metadata": {},
   "source": [
    "#### Data Preparation"
   ]
  },
  {
   "cell_type": "code",
   "execution_count": 3,
   "metadata": {},
   "outputs": [],
   "source": [
    "Y = df_pa['Incidence']\n",
    "X = pd.DataFrame()\n",
    "\n",
    "# Calculate the average price across the five brands\n",
    "X['Mean_Price'] = (df_pa['Price_1'] +\n",
    "                   df_pa['Price_2'] +\n",
    "                   df_pa['Price_3'] +\n",
    "                   df_pa['Price_4'] +\n",
    "                   df_pa['Price_5'] ) / 5"
   ]
  },
  {
   "cell_type": "markdown",
   "metadata": {},
   "source": [
    "#### Binomial Logistic Regression\n",
    "Use binomial logistic regression model to determine the probability of purchase where the dependant variable is based on the average price of the product."
   ]
  },
  {
   "cell_type": "code",
   "execution_count": 4,
   "metadata": {},
   "outputs": [
    {
     "data": {
      "text/plain": [
       "LogisticRegression(solver='sag')"
      ]
     },
     "execution_count": 4,
     "metadata": {},
     "output_type": "execute_result"
    }
   ],
   "source": [
    "model_purchase = LogisticRegression(solver = 'sag')\n",
    "model_purchase.fit(X, Y)"
   ]
  },
  {
   "cell_type": "code",
   "execution_count": 5,
   "metadata": {},
   "outputs": [
    {
     "data": {
      "text/plain": [
       "array([[-2.34759244]])"
      ]
     },
     "execution_count": 5,
     "metadata": {},
     "output_type": "execute_result"
    }
   ],
   "source": [
    "model_purchase.coef_"
   ]
  },
  {
   "cell_type": "markdown",
   "metadata": {},
   "source": [
    "> A decrease in price would lead to an increase in purchase probability"
   ]
  },
  {
   "cell_type": "markdown",
   "metadata": {},
   "source": [
    "### Price Elasticity of Purchase Probability"
   ]
  },
  {
   "cell_type": "markdown",
   "metadata": {},
   "source": [
    "$E = \\frac{\\Delta Pr(Purchase)}{\\Delta Price} * \\frac{Price}{Pr(Purchase)} = \\beta * \\frac{Price}{Pr(Purchase)}$"
   ]
  },
  {
   "cell_type": "code",
   "execution_count": 6,
   "metadata": {},
   "outputs": [
    {
     "data": {
      "text/html": [
       "<div>\n",
       "<style scoped>\n",
       "    .dataframe tbody tr th:only-of-type {\n",
       "        vertical-align: middle;\n",
       "    }\n",
       "\n",
       "    .dataframe tbody tr th {\n",
       "        vertical-align: top;\n",
       "    }\n",
       "\n",
       "    .dataframe thead th {\n",
       "        text-align: right;\n",
       "    }\n",
       "</style>\n",
       "<table border=\"1\" class=\"dataframe\">\n",
       "  <thead>\n",
       "    <tr style=\"text-align: right;\">\n",
       "      <th></th>\n",
       "      <th>Price_1</th>\n",
       "      <th>Price_2</th>\n",
       "      <th>Price_3</th>\n",
       "      <th>Price_4</th>\n",
       "      <th>Price_5</th>\n",
       "    </tr>\n",
       "  </thead>\n",
       "  <tbody>\n",
       "    <tr>\n",
       "      <th>count</th>\n",
       "      <td>58693.000000</td>\n",
       "      <td>58693.000000</td>\n",
       "      <td>58693.000000</td>\n",
       "      <td>58693.000000</td>\n",
       "      <td>58693.000000</td>\n",
       "    </tr>\n",
       "    <tr>\n",
       "      <th>mean</th>\n",
       "      <td>1.392074</td>\n",
       "      <td>1.780999</td>\n",
       "      <td>2.006789</td>\n",
       "      <td>2.159945</td>\n",
       "      <td>2.654798</td>\n",
       "    </tr>\n",
       "    <tr>\n",
       "      <th>std</th>\n",
       "      <td>0.091139</td>\n",
       "      <td>0.170868</td>\n",
       "      <td>0.046867</td>\n",
       "      <td>0.089825</td>\n",
       "      <td>0.098272</td>\n",
       "    </tr>\n",
       "    <tr>\n",
       "      <th>min</th>\n",
       "      <td>1.100000</td>\n",
       "      <td>1.260000</td>\n",
       "      <td>1.870000</td>\n",
       "      <td>1.760000</td>\n",
       "      <td>2.110000</td>\n",
       "    </tr>\n",
       "    <tr>\n",
       "      <th>25%</th>\n",
       "      <td>1.340000</td>\n",
       "      <td>1.580000</td>\n",
       "      <td>1.970000</td>\n",
       "      <td>2.120000</td>\n",
       "      <td>2.630000</td>\n",
       "    </tr>\n",
       "    <tr>\n",
       "      <th>50%</th>\n",
       "      <td>1.390000</td>\n",
       "      <td>1.880000</td>\n",
       "      <td>2.010000</td>\n",
       "      <td>2.170000</td>\n",
       "      <td>2.670000</td>\n",
       "    </tr>\n",
       "    <tr>\n",
       "      <th>75%</th>\n",
       "      <td>1.470000</td>\n",
       "      <td>1.890000</td>\n",
       "      <td>2.060000</td>\n",
       "      <td>2.240000</td>\n",
       "      <td>2.700000</td>\n",
       "    </tr>\n",
       "    <tr>\n",
       "      <th>max</th>\n",
       "      <td>1.590000</td>\n",
       "      <td>1.900000</td>\n",
       "      <td>2.140000</td>\n",
       "      <td>2.260000</td>\n",
       "      <td>2.800000</td>\n",
       "    </tr>\n",
       "  </tbody>\n",
       "</table>\n",
       "</div>"
      ],
      "text/plain": [
       "            Price_1       Price_2       Price_3       Price_4       Price_5\n",
       "count  58693.000000  58693.000000  58693.000000  58693.000000  58693.000000\n",
       "mean       1.392074      1.780999      2.006789      2.159945      2.654798\n",
       "std        0.091139      0.170868      0.046867      0.089825      0.098272\n",
       "min        1.100000      1.260000      1.870000      1.760000      2.110000\n",
       "25%        1.340000      1.580000      1.970000      2.120000      2.630000\n",
       "50%        1.390000      1.880000      2.010000      2.170000      2.670000\n",
       "75%        1.470000      1.890000      2.060000      2.240000      2.700000\n",
       "max        1.590000      1.900000      2.140000      2.260000      2.800000"
      ]
     },
     "execution_count": 6,
     "metadata": {},
     "output_type": "execute_result"
    }
   ],
   "source": [
    "df_pa[['Price_1', 'Price_2', 'Price_3', 'Price_4', 'Price_5']].describe()"
   ]
  },
  {
   "cell_type": "markdown",
   "metadata": {},
   "source": [
    "- The minimum price is 1.1 dollars and the maximum price is 2.8. \n",
    "- In this analysis will opt for the range between 0.5 and 3.5 in order to gain a better understanding of how the purchase probabilities and the respective elasticities change "
   ]
  },
  {
   "cell_type": "code",
   "execution_count": 7,
   "metadata": {},
   "outputs": [],
   "source": [
    "# Price range for examining the purchase probability\n",
    "price_range = np.arange(0.5, 3.5, 0.01)\n",
    "df_price_range = pd.DataFrame(price_range)"
   ]
  },
  {
   "cell_type": "code",
   "execution_count": 8,
   "metadata": {},
   "outputs": [],
   "source": [
    "Y_pr = model_purchase.predict_proba(df_price_range)"
   ]
  },
  {
   "cell_type": "markdown",
   "metadata": {},
   "source": [
    "- The first column shows the probability for not purchasing the product \n",
    "- The second column is the probability for purchase for each price point"
   ]
  },
  {
   "cell_type": "code",
   "execution_count": 9,
   "metadata": {},
   "outputs": [],
   "source": [
    "# Compute price elasticity\n",
    "purchase_pr = Y_pr[:][:, 1]\n",
    "pe = model_purchase.coef_[:, 0] * price_range * (1 - purchase_pr)"
   ]
  },
  {
   "cell_type": "code",
   "execution_count": 10,
   "metadata": {},
   "outputs": [
    {
     "data": {
      "text/html": [
       "<div>\n",
       "<style scoped>\n",
       "    .dataframe tbody tr th:only-of-type {\n",
       "        vertical-align: middle;\n",
       "    }\n",
       "\n",
       "    .dataframe tbody tr th {\n",
       "        vertical-align: top;\n",
       "    }\n",
       "\n",
       "    .dataframe thead th {\n",
       "        text-align: right;\n",
       "    }\n",
       "</style>\n",
       "<table border=\"1\" class=\"dataframe\">\n",
       "  <thead>\n",
       "    <tr style=\"text-align: right;\">\n",
       "      <th></th>\n",
       "      <th>Price_Point</th>\n",
       "      <th>Mean_PE</th>\n",
       "    </tr>\n",
       "  </thead>\n",
       "  <tbody>\n",
       "    <tr>\n",
       "      <th>0</th>\n",
       "      <td>0.50</td>\n",
       "      <td>-0.096316</td>\n",
       "    </tr>\n",
       "    <tr>\n",
       "      <th>1</th>\n",
       "      <td>0.51</td>\n",
       "      <td>-0.100381</td>\n",
       "    </tr>\n",
       "    <tr>\n",
       "      <th>2</th>\n",
       "      <td>0.52</td>\n",
       "      <td>-0.104572</td>\n",
       "    </tr>\n",
       "    <tr>\n",
       "      <th>3</th>\n",
       "      <td>0.53</td>\n",
       "      <td>-0.108893</td>\n",
       "    </tr>\n",
       "    <tr>\n",
       "      <th>4</th>\n",
       "      <td>0.54</td>\n",
       "      <td>-0.113347</td>\n",
       "    </tr>\n",
       "  </tbody>\n",
       "</table>\n",
       "</div>"
      ],
      "text/plain": [
       "   Price_Point   Mean_PE\n",
       "0         0.50 -0.096316\n",
       "1         0.51 -0.100381\n",
       "2         0.52 -0.104572\n",
       "3         0.53 -0.108893\n",
       "4         0.54 -0.113347"
      ]
     },
     "execution_count": 10,
     "metadata": {},
     "output_type": "execute_result"
    }
   ],
   "source": [
    "# Create price elasticities master data frame\n",
    "df_price_elasticities = pd.DataFrame(price_range)\n",
    "df_price_elasticities = df_price_elasticities.rename(columns = {0: \"Price_Point\"})\n",
    "df_price_elasticities['Mean_PE'] = pe\n",
    "pd.options.display.max_rows = None\n",
    "df_price_elasticities.head()"
   ]
  },
  {
   "cell_type": "code",
   "execution_count": 11,
   "metadata": {},
   "outputs": [
    {
     "data": {
      "image/png": "[encoded data removed]",
      "text/plain": [
       "<Figure size 648x432 with 1 Axes>"
      ]
     },
     "metadata": {},
     "output_type": "display_data"
    }
   ],
   "source": [
    "# Display the price elasticity of purchase probability of the average customer\n",
    "plt.figure(figsize = (9, 6))\n",
    "plt.plot(price_range, pe, color = 'grey')\n",
    "plt.xlabel('Price')\n",
    "plt.ylabel('Elasticity')\n",
    "plt.title('Price Elasticity of Purchase Probability')\n",
    "plt.show()"
   ]
  },
  {
   "cell_type": "markdown",
   "metadata": {},
   "source": [
    "### Price Elasticity of Purchase Probability by Customer Segments"
   ]
  },
  {
   "cell_type": "markdown",
   "metadata": {},
   "source": [
    "#### Fewer opportunities"
   ]
  },
  {
   "cell_type": "code",
   "execution_count": 12,
   "metadata": {},
   "outputs": [],
   "source": [
    "# Filter the data to contain only customers from segment 1, the fewer opportunities\n",
    "df_pa_segment_1 = df_pa[df_pa['Segment'] == 1]\n",
    "Y = df_pa_segment_1['Incidence']\n",
    "X = pd.DataFrame()\n",
    "X['Mean_Price'] = (df_pa_segment_1['Price_1'] + \n",
    "                   df_pa_segment_1['Price_2'] + \n",
    "                   df_pa_segment_1['Price_3'] + \n",
    "                   df_pa_segment_1['Price_4'] + \n",
    "                   df_pa_segment_1['Price_5']) / 5\n",
    "\n",
    "# Fit logistic regression model\n",
    "model_incidence_segment_1 = LogisticRegression(solver = 'sag')\n",
    "model_incidence_segment_1.fit(X, Y)\n",
    "\n",
    "# Calculate Price Elasticity of the fewer opportunities segment\n",
    "Y_segment_1 = model_incidence_segment_1.predict_proba(df_price_range)\n",
    "purchase_pr_segment_1 = Y_segment_1[:][:, 1]\n",
    "pe_segment1 = model_incidence_segment_1.coef_[:, 0] * price_range * (1 - purchase_pr_segment_1)\n",
    "\n",
    "# Update price elasticities data frame\n",
    "df_price_elasticities['PE_Segment_1'] = pe_segment1"
   ]
  },
  {
   "cell_type": "markdown",
   "metadata": {},
   "source": [
    "#### Standard"
   ]
  },
  {
   "cell_type": "code",
   "execution_count": 13,
   "metadata": {},
   "outputs": [],
   "source": [
    "# Select only customers from segment 2, the standard\n",
    "df_pa_segment_2 = df_pa[df_pa['Segment'] == 2]\n",
    "Y = df_pa_segment_2['Incidence']\n",
    "X = pd.DataFrame()\n",
    "X['Mean_Price'] = (df_pa_segment_2['Price_1'] + \n",
    "                   df_pa_segment_2['Price_2'] + \n",
    "                   df_pa_segment_2['Price_3'] + \n",
    "                   df_pa_segment_2['Price_4'] + \n",
    "                   df_pa_segment_2['Price_5']) / 5\n",
    "\n",
    "# Logistic regression model\n",
    "model_incidence_segment2 = LogisticRegression(solver = 'sag')\n",
    "model_incidence_segment2.fit(X, Y)\n",
    "\n",
    "# Calculate price elasticities\n",
    "Y_segment_2 = model_incidence_segment2.predict_proba(df_price_range)\n",
    "purchase_pr_segment2 = Y_segment_2[:][: , 1]\n",
    "pe_segment2 = model_incidence_segment2.coef_[:,0] * price_range * ( 1- purchase_pr_segment2)\n",
    "\n",
    "# Update price elasticities data frame\n",
    "df_price_elasticities['PE_Segment_2'] = pe_segment2"
   ]
  },
  {
   "cell_type": "markdown",
   "metadata": {},
   "source": [
    "#### Well-off"
   ]
  },
  {
   "cell_type": "code",
   "execution_count": 14,
   "metadata": {},
   "outputs": [],
   "source": [
    "# Select only customers from segment 0, the well-off segment.\n",
    "df_pa_segment_0 = df_pa[df_pa['Segment'] == 0]\n",
    "Y = df_pa_segment_0['Incidence']\n",
    "X = pd.DataFrame()\n",
    "X['Mean_Price'] = (df_pa_segment_0['Price_1'] + \n",
    "                   df_pa_segment_0['Price_2'] + \n",
    "                   df_pa_segment_0['Price_3'] + \n",
    "                   df_pa_segment_0['Price_4'] + \n",
    "                   df_pa_segment_0['Price_5']) / 5\n",
    "\n",
    "# Logistic regression model\n",
    "model_incidence_segment0 = LogisticRegression(solver = 'sag')\n",
    "model_incidence_segment0.fit(X, Y)\n",
    "\n",
    "# Calculate price elasticities\n",
    "Y_segment_0 = model_incidence_segment0.predict_proba(df_price_range)\n",
    "purchase_pr_segment0 = Y_segment_0[:][: , 1]\n",
    "pe_segment0 = model_incidence_segment0.coef_[:,0] * price_range *( 1- purchase_pr_segment0)\n",
    "\n",
    "# Update price elasticities data frame\n",
    "df_price_elasticities.insert(2, column = 'PE_Segment_0', value = pe_segment0)"
   ]
  },
  {
   "cell_type": "markdown",
   "metadata": {},
   "source": [
    "#### Career focused"
   ]
  },
  {
   "cell_type": "code",
   "execution_count": 15,
   "metadata": {},
   "outputs": [],
   "source": [
    "# Select only customers from segment 3 \n",
    "df_pa_segment_3 = df_pa[df_pa['Segment'] == 3]\n",
    "Y = df_pa_segment_3['Incidence']\n",
    "X = pd.DataFrame()\n",
    "X['Mean_Price'] = (df_pa_segment_3['Price_1'] + \n",
    "                   df_pa_segment_3['Price_2'] + \n",
    "                   df_pa_segment_3['Price_3'] + \n",
    "                   df_pa_segment_3['Price_4'] + \n",
    "                   df_pa_segment_3['Price_5']) / 5\n",
    "\n",
    "# Logistic regression model\n",
    "model_incidence_segment3 = LogisticRegression(solver = 'sag')\n",
    "model_incidence_segment3.fit(X, Y)\n",
    "\n",
    "# Calculate price elasticities\n",
    "Y_segment_3 = model_incidence_segment3.predict_proba(df_price_range)\n",
    "purchase_pr_segment3 = Y_segment_3[:][: , 1]\n",
    "pe_segment3 = model_incidence_segment3.coef_[:,0] * price_range *( 1- purchase_pr_segment3)\n",
    "df_price_elasticities['PE_Segment_3'] = pe_segment3"
   ]
  },
  {
   "cell_type": "code",
   "execution_count": 16,
   "metadata": {},
   "outputs": [
    {
     "data": {
      "text/html": [
       "<div>\n",
       "<style scoped>\n",
       "    .dataframe tbody tr th:only-of-type {\n",
       "        vertical-align: middle;\n",
       "    }\n",
       "\n",
       "    .dataframe tbody tr th {\n",
       "        vertical-align: top;\n",
       "    }\n",
       "\n",
       "    .dataframe thead th {\n",
       "        text-align: right;\n",
       "    }\n",
       "</style>\n",
       "<table border=\"1\" class=\"dataframe\">\n",
       "  <thead>\n",
       "    <tr style=\"text-align: right;\">\n",
       "      <th></th>\n",
       "      <th>Price_Point</th>\n",
       "      <th>Mean_PE</th>\n",
       "      <th>PE_Segment_0</th>\n",
       "      <th>PE_Segment_1</th>\n",
       "      <th>PE_Segment_2</th>\n",
       "      <th>PE_Segment_3</th>\n",
       "    </tr>\n",
       "  </thead>\n",
       "  <tbody>\n",
       "    <tr>\n",
       "      <th>0</th>\n",
       "      <td>0.50</td>\n",
       "      <td>-0.096316</td>\n",
       "      <td>-0.032421</td>\n",
       "      <td>-0.118585</td>\n",
       "      <td>-0.211172</td>\n",
       "      <td>-0.165258</td>\n",
       "    </tr>\n",
       "    <tr>\n",
       "      <th>1</th>\n",
       "      <td>0.51</td>\n",
       "      <td>-0.100381</td>\n",
       "      <td>-0.034260</td>\n",
       "      <td>-0.122766</td>\n",
       "      <td>-0.217742</td>\n",
       "      <td>-0.170177</td>\n",
       "    </tr>\n",
       "    <tr>\n",
       "      <th>2</th>\n",
       "      <td>0.52</td>\n",
       "      <td>-0.104572</td>\n",
       "      <td>-0.036190</td>\n",
       "      <td>-0.127040</td>\n",
       "      <td>-0.224420</td>\n",
       "      <td>-0.175170</td>\n",
       "    </tr>\n",
       "    <tr>\n",
       "      <th>3</th>\n",
       "      <td>0.53</td>\n",
       "      <td>-0.108893</td>\n",
       "      <td>-0.038213</td>\n",
       "      <td>-0.131410</td>\n",
       "      <td>-0.231206</td>\n",
       "      <td>-0.180236</td>\n",
       "    </tr>\n",
       "    <tr>\n",
       "      <th>4</th>\n",
       "      <td>0.54</td>\n",
       "      <td>-0.113347</td>\n",
       "      <td>-0.040334</td>\n",
       "      <td>-0.135877</td>\n",
       "      <td>-0.238102</td>\n",
       "      <td>-0.185378</td>\n",
       "    </tr>\n",
       "  </tbody>\n",
       "</table>\n",
       "</div>"
      ],
      "text/plain": [
       "   Price_Point   Mean_PE  PE_Segment_0  PE_Segment_1  PE_Segment_2  \\\n",
       "0         0.50 -0.096316     -0.032421     -0.118585     -0.211172   \n",
       "1         0.51 -0.100381     -0.034260     -0.122766     -0.217742   \n",
       "2         0.52 -0.104572     -0.036190     -0.127040     -0.224420   \n",
       "3         0.53 -0.108893     -0.038213     -0.131410     -0.231206   \n",
       "4         0.54 -0.113347     -0.040334     -0.135877     -0.238102   \n",
       "\n",
       "   PE_Segment_3  \n",
       "0     -0.165258  \n",
       "1     -0.170177  \n",
       "2     -0.175170  \n",
       "3     -0.180236  \n",
       "4     -0.185378  "
      ]
     },
     "execution_count": 16,
     "metadata": {},
     "output_type": "execute_result"
    }
   ],
   "source": [
    "# Update price elasticities data frame\n",
    "df_price_elasticities.head()"
   ]
  },
  {
   "cell_type": "code",
   "execution_count": 17,
   "metadata": {},
   "outputs": [
    {
     "data": {
      "image/png": "[encoded data removed]",
      "text/plain": [
       "<Figure size 648x432 with 1 Axes>"
      ]
     },
     "metadata": {},
     "output_type": "display_data"
    }
   ],
   "source": [
    "# Display all elasticities of purchase probability\n",
    "plt.figure(figsize = (9, 6))\n",
    "plt.plot(price_range, pe, color = 'grey', label = 'average')\n",
    "plt.plot(price_range, pe_segment0, color = 'g', label = 'fewer opportunities')\n",
    "plt.plot(price_range, pe_segment1, color = 'orange', label = 'career focused')\n",
    "plt.plot(price_range, pe_segment2, color = 'r', label = 'standard')\n",
    "plt.plot(price_range, pe_segment3, color = 'b', label = 'well-off')\n",
    "plt.xlabel('Price')\n",
    "plt.ylabel('Elasticity')\n",
    "plt.legend()\n",
    "plt.title('Price Elasticity of Purchase Probability')\n",
    "plt.show()"
   ]
  },
  {
   "cell_type": "markdown",
   "metadata": {},
   "source": [
    "> **Results and Interpretation:**\n",
    "- Career focused segment: This segment is less elastic than the average customer\n",
    "- Fewer opportunities segment: This segment is more price sensitive compared to the average and a lot more sensitive compared to the career focused. The line is much steeper. This means that with an increase in price, they become more and more elastic much faster.\n",
    "- Well-off segment: This segment is the least elastic when compared to the rest, so, their purchase probability elasticity is not as affected by price.\n",
    "- The price elasticities for the Standard segment seem to differ across price range. This may be due to the fact that the standard segment is least homogenous."
   ]
  },
  {
   "cell_type": "markdown",
   "metadata": {},
   "source": [
    "### Purchase Probability with Promotion Feature"
   ]
  },
  {
   "cell_type": "markdown",
   "metadata": {},
   "source": [
    "#### Data Preparation"
   ]
  },
  {
   "cell_type": "code",
   "execution_count": 18,
   "metadata": {},
   "outputs": [],
   "source": [
    "Y = df_pa['Incidence']\n",
    "X = pd.DataFrame()\n",
    "\n",
    "# Calculate the average price across the five brands\n",
    "X['Mean_Price'] = (df_pa['Price_1'] + \n",
    "                   df_pa['Price_2'] + \n",
    "                   df_pa['Price_3'] + \n",
    "                   df_pa['Price_4'] + \n",
    "                   df_pa['Price_5']) / 5\n",
    "\n",
    "# Calculate the average promotion rate across the five brands\n",
    "X['Mean_Promotion'] = (df_pa['Promotion_1'] +\n",
    "                       df_pa['Promotion_2'] +\n",
    "                       df_pa['Promotion_3'] +\n",
    "                       df_pa['Promotion_4'] +\n",
    "                       df_pa['Promotion_5'] ) / 5"
   ]
  },
  {
   "cell_type": "markdown",
   "metadata": {},
   "source": [
    "#### Binomial Logistic Regression"
   ]
  },
  {
   "cell_type": "code",
   "execution_count": 19,
   "metadata": {},
   "outputs": [
    {
     "data": {
      "text/plain": [
       "LogisticRegression(solver='sag')"
      ]
     },
     "execution_count": 19,
     "metadata": {},
     "output_type": "execute_result"
    }
   ],
   "source": [
    "model_incidence_promotion = LogisticRegression(solver = 'sag')\n",
    "model_incidence_promotion.fit(X, Y)"
   ]
  },
  {
   "cell_type": "markdown",
   "metadata": {},
   "source": [
    "### Price Elasticity with Promotion"
   ]
  },
  {
   "cell_type": "code",
   "execution_count": 20,
   "metadata": {},
   "outputs": [],
   "source": [
    "df_price_elasticity_promotion = pd.DataFrame(price_range)\n",
    "df_price_elasticity_promotion = df_price_elasticity_promotion.rename(columns = {0: \"Price_Range\"})\n",
    "\n",
    "# Assume there is a promotion across at each price points\n",
    "df_price_elasticity_promotion['Promotion'] = 1\n",
    "\n",
    "# Purchase Probability with Promotion Model Prediction\n",
    "Y_promotion = model_incidence_promotion.predict_proba(df_price_elasticity_promotion)\n",
    "promo = Y_promotion[:, 1]\n",
    "price_elasticity_promo = (model_incidence_promotion.coef_[:, 0] * price_range) * (1 - promo)\n",
    "\n",
    "# Update price elasticities data frame\n",
    "df_price_elasticities['Elasticity_Promotion_1'] = price_elasticity_promo"
   ]
  },
  {
   "cell_type": "markdown",
   "metadata": {},
   "source": [
    "### Price Elasticity without Promotion"
   ]
  },
  {
   "cell_type": "code",
   "execution_count": 21,
   "metadata": {},
   "outputs": [],
   "source": [
    "df_price_elasticity_promotion_no = pd.DataFrame(price_range)\n",
    "df_price_elasticity_promotion_no = df_price_elasticity_promotion_no.rename(columns = {0: \"Price_Range\"})\n",
    "\n",
    "# Assume there is no promotion across at each price points\n",
    "df_price_elasticity_promotion_no['Promotion'] = 0\n",
    "\n",
    "#Purchase Probability without Promotion Model Prediction\n",
    "Y_no_promo = model_incidence_promotion.predict_proba(df_price_elasticity_promotion_no)\n",
    "no_promo = Y_no_promo[: , 1]\n",
    "price_elasticity_no_promo = model_incidence_promotion.coef_[:, 0] * price_range *(1 - no_promo)\n",
    "\n",
    "# Update price elasticities data frame\n",
    "df_price_elasticities['Elasticity_Promotion_0'] = price_elasticity_no_promo"
   ]
  },
  {
   "cell_type": "code",
   "execution_count": 22,
   "metadata": {},
   "outputs": [
    {
     "data": {
      "image/png": "[encoded data removed]",
      "text/plain": [
       "<Figure size 648x432 with 1 Axes>"
      ]
     },
     "metadata": {},
     "output_type": "display_data"
    }
   ],
   "source": [
    "# Plot purchase elasticities with and without promotion side by side for comprarisson\n",
    "plt.figure(figsize = (9, 6))\n",
    "plt.plot(price_range, price_elasticity_no_promo, label='without promotion')\n",
    "plt.plot(price_range, price_elasticity_promo, label='with promotion')\n",
    "plt.xlabel('Price')\n",
    "plt.ylabel('Elasticity')\n",
    "plt.legend()\n",
    "plt.title('Price Elasticity of Purchase Probability with and without Promotion')\n",
    "plt.show()"
   ]
  },
  {
   "cell_type": "markdown",
   "metadata": {},
   "source": [
    "> **Results and Interpretation:**\n",
    "- Customers are less price sensitive to price changes when there are promotion activities"
   ]
  },
  {
   "cell_type": "markdown",
   "metadata": {},
   "source": [
    "<a id='brand'></a>\n",
    "### Brand Choice\n",
    "Marketer's efforts are devoted to influencing customers to choose namely their brand over competing brands. If the price of a product from a given brand increases the brand choice probability for that brand decreases. Calculating price elasticity of brand choice for a brand with respect to the price of that brand would show us exactly how much.\n",
    "\n",
    "The choice probability for any one brand and the choice probabilities for all the other brands are interrelated and a marketing mix tool of our brand reflects not only the choice probability for that brand but the choice probabilities for all other brands as well. These effects are known as **own brand effects** and **cross brand effects**.\n",
    "\n",
    "If another brand increases its unit price, the brand choice probability of the brand of interest would increase. Price elasticity calculations will show us how much the brand choice profitability of our brand would increase with a 1 percent increase in the price of a competing brand."
   ]
  },
  {
   "cell_type": "markdown",
   "metadata": {},
   "source": [
    "#### Data Preparation"
   ]
  },
  {
   "cell_type": "code",
   "execution_count": 23,
   "metadata": {},
   "outputs": [],
   "source": [
    "brand_choice = df_pa[df_pa['Incidence'] == 1]\n",
    "\n",
    "# Predict based on the prices for the five brands.\n",
    "features = ['Price_1', 'Price_2', 'Price_3', 'Price_4', 'Price_5']\n",
    "Y = brand_choice['Brand']\n",
    "X = brand_choice[features]"
   ]
  },
  {
   "cell_type": "markdown",
   "metadata": {},
   "source": [
    "#### Multinomial Logistic Regression\n",
    "Multinomial logistic regression model to predict brand choice probability based on the prices for the brands."
   ]
  },
  {
   "cell_type": "code",
   "execution_count": 24,
   "metadata": {},
   "outputs": [
    {
     "data": {
      "text/plain": [
       "LogisticRegression(multi_class='multinomial', solver='sag')"
      ]
     },
     "execution_count": 24,
     "metadata": {},
     "output_type": "execute_result"
    }
   ],
   "source": [
    "model_brand_choice = LogisticRegression(solver = 'sag', multi_class = 'multinomial')\n",
    "model_brand_choice.fit(X, Y)"
   ]
  },
  {
   "cell_type": "code",
   "execution_count": 25,
   "metadata": {},
   "outputs": [
    {
     "data": {
      "text/html": [
       "<div>\n",
       "<style scoped>\n",
       "    .dataframe tbody tr th:only-of-type {\n",
       "        vertical-align: middle;\n",
       "    }\n",
       "\n",
       "    .dataframe tbody tr th {\n",
       "        vertical-align: top;\n",
       "    }\n",
       "\n",
       "    .dataframe thead tr th {\n",
       "        text-align: left;\n",
       "    }\n",
       "</style>\n",
       "<table border=\"1\" class=\"dataframe\">\n",
       "  <thead>\n",
       "    <tr>\n",
       "      <th></th>\n",
       "      <th>Coef_Brand_1</th>\n",
       "      <th>Coef_Brand_2</th>\n",
       "      <th>Coef_Brand_3</th>\n",
       "      <th>Coef_Brand_4</th>\n",
       "      <th>Coef_Brand_5</th>\n",
       "    </tr>\n",
       "  </thead>\n",
       "  <tbody>\n",
       "    <tr>\n",
       "      <th>Price_1</th>\n",
       "      <td>-3.92</td>\n",
       "      <td>1.27</td>\n",
       "      <td>1.62</td>\n",
       "      <td>0.57</td>\n",
       "      <td>0.44</td>\n",
       "    </tr>\n",
       "    <tr>\n",
       "      <th>Price_2</th>\n",
       "      <td>0.66</td>\n",
       "      <td>-1.88</td>\n",
       "      <td>0.56</td>\n",
       "      <td>0.40</td>\n",
       "      <td>0.26</td>\n",
       "    </tr>\n",
       "    <tr>\n",
       "      <th>Price_3</th>\n",
       "      <td>2.42</td>\n",
       "      <td>-0.21</td>\n",
       "      <td>0.50</td>\n",
       "      <td>-1.40</td>\n",
       "      <td>-1.31</td>\n",
       "    </tr>\n",
       "    <tr>\n",
       "      <th>Price_4</th>\n",
       "      <td>0.70</td>\n",
       "      <td>-0.21</td>\n",
       "      <td>1.04</td>\n",
       "      <td>-1.25</td>\n",
       "      <td>-0.29</td>\n",
       "    </tr>\n",
       "    <tr>\n",
       "      <th>Price_5</th>\n",
       "      <td>-0.20</td>\n",
       "      <td>0.59</td>\n",
       "      <td>0.45</td>\n",
       "      <td>0.25</td>\n",
       "      <td>-1.09</td>\n",
       "    </tr>\n",
       "  </tbody>\n",
       "</table>\n",
       "</div>"
      ],
      "text/plain": [
       "        Coef_Brand_1 Coef_Brand_2 Coef_Brand_3 Coef_Brand_4 Coef_Brand_5\n",
       "Price_1        -3.92         1.27         1.62         0.57         0.44\n",
       "Price_2         0.66        -1.88         0.56         0.40         0.26\n",
       "Price_3         2.42        -0.21         0.50        -1.40        -1.31\n",
       "Price_4         0.70        -0.21         1.04        -1.25        -0.29\n",
       "Price_5        -0.20         0.59         0.45         0.25        -1.09"
      ]
     },
     "execution_count": 25,
     "metadata": {},
     "output_type": "execute_result"
    }
   ],
   "source": [
    "# Create a dataframe, which contains to coefficients.\n",
    "bc_coef = pd.DataFrame(model_brand_choice.coef_)\n",
    "bc_coef = pd.DataFrame(np.transpose(model_brand_choice.coef_))\n",
    "coefficients = ['Coef_Brand_1', 'Coef_Brand_2', 'Coef_Brand_3', 'Coef_Brand_4', 'Coef_Brand_5']\n",
    "bc_coef.columns = [coefficients]\n",
    "prices = ['Price_1', 'Price_2', 'Price_3', 'Price_4', 'Price_5']\n",
    "bc_coef.index = [prices]\n",
    "bc_coef = bc_coef.round(2)\n",
    "bc_coef"
   ]
  },
  {
   "cell_type": "markdown",
   "metadata": {},
   "source": [
    "> **Results and Interpretation:**\n",
    "- By looking at the coefficients of Brand 1, the coefficient for the own brand with respect to price is negative while it's positive for all other prices except five, i.e. the more the price of a competitor increases, the higher the probability of customers switching to our own brand would be. Hence, there is a positive relationship between our own brands purchase probability and a competitive brand increasing their price.\n",
    "- The choice probability for any one brand and the choice probabilities for all the other brands are interrelated and a marketing mix tool of our brand reflects not only the choice probability for that brand but the choice probabilities for all other brands as well. These effects are known as **own brand effects** and **cross brand effects**."
   ]
  },
  {
   "cell_type": "markdown",
   "metadata": {},
   "source": [
    "### Own Price Elasticity"
   ]
  },
  {
   "cell_type": "markdown",
   "metadata": {},
   "source": [
    "$E_{own\\: brand} = \\beta_{own\\: brand} * \\frac{Price_{own\\: brand}}{Pr(own\\: brand)}$"
   ]
  },
  {
   "cell_type": "markdown",
   "metadata": {},
   "source": [
    "#### Brand 5"
   ]
  },
  {
   "cell_type": "code",
   "execution_count": 26,
   "metadata": {},
   "outputs": [],
   "source": [
    "# Calculate price elasticity of brand choice.\n",
    "df_own_brand_5 = pd.DataFrame(index = np.arange(price_range.size))\n",
    "df_own_brand_5['Price_1'] = brand_choice['Price_1'].mean()\n",
    "df_own_brand_5['Price_2'] = brand_choice['Price_2'].mean()\n",
    "df_own_brand_5['Price_3'] = brand_choice['Price_3'].mean()\n",
    "df_own_brand_5['Price_4'] = brand_choice['Price_4'].mean()\n",
    "df_own_brand_5['Price_5'] = price_range"
   ]
  },
  {
   "cell_type": "code",
   "execution_count": 27,
   "metadata": {},
   "outputs": [],
   "source": [
    "# Brand choice model prediction\n",
    "predict_brand_5 = model_brand_choice.predict_proba(df_own_brand_5)\n",
    "\n",
    "# Obtain the probability for the fifth brand\n",
    "pr_own_brand_5 = predict_brand_5[: ][:, 4]\n",
    "\n",
    "# Obtain the beta coefficient of brand 5 and price 5\n",
    "beta5 = bc_coef.iloc[4, 4]\n",
    "\n",
    "# Calculating price elasticities for brand choice without promotion. \n",
    "own_price_elasticity_brand_5 = beta5 * price_range * (1 - pr_own_brand_5)\n",
    "\n",
    "\n",
    "# Update price elasticities data frame\n",
    "df_price_elasticities['Brand_5'] = own_price_elasticity_brand_5"
   ]
  },
  {
   "cell_type": "markdown",
   "metadata": {},
   "source": [
    "### Cross Price Elasticity"
   ]
  },
  {
   "cell_type": "markdown",
   "metadata": {},
   "source": [
    "$E_{cross\\: brand} = -\\beta_{own\\: brand} * \\frac{Price_{cross\\: brand}}{Pr(cross\\: brand)}$"
   ]
  },
  {
   "cell_type": "markdown",
   "metadata": {},
   "source": [
    "#### Brand 5, Cross Brand 4"
   ]
  },
  {
   "cell_type": "code",
   "execution_count": 28,
   "metadata": {},
   "outputs": [],
   "source": [
    "# Examine the effect of the changes in price of a competitor brand\n",
    "# Brand 4 price is the closest to brand 5\n",
    "df_brand5_cross_brand4 = pd.DataFrame(index = np.arange(price_range.size))\n",
    "df_brand5_cross_brand4['Price_1'] = brand_choice['Price_1'].mean()\n",
    "df_brand5_cross_brand4['Price_2'] = brand_choice['Price_2'].mean()\n",
    "df_brand5_cross_brand4['Price_3'] = brand_choice['Price_3'].mean()\n",
    "df_brand5_cross_brand4['Price_4'] = price_range\n",
    "df_brand5_cross_brand4['Price_5'] = brand_choice['Price_5'].mean()"
   ]
  },
  {
   "cell_type": "code",
   "execution_count": 29,
   "metadata": {},
   "outputs": [],
   "source": [
    "# Brand choice model prediction\n",
    "predict_brand5_cross_brand4 = model_brand_choice.predict_proba(df_brand5_cross_brand4)\n",
    "\n",
    "# Obtain the probability for the fourth brand\n",
    "pr_brand_4 = predict_brand5_cross_brand4[:][:, 3]\n",
    "\n",
    "# Calculating the cross brand price elasticities\n",
    "brand5_cross_brand4_price_elasticity = -beta5 * price_range * pr_brand_4\n",
    "\n",
    "# Update price elasticities data frame\n",
    "df_price_elasticities['Brand_5_Cross_Brand_4'] = brand5_cross_brand4_price_elasticity"
   ]
  },
  {
   "cell_type": "code",
   "execution_count": 30,
   "metadata": {},
   "outputs": [
    {
     "data": {
      "image/png": "[encoded data removed]",
      "text/plain": [
       "<Figure size 1008x288 with 2 Axes>"
      ]
     },
     "metadata": {},
     "output_type": "display_data"
    }
   ],
   "source": [
    "# Plot elasticities of purchase probability for brand 5\n",
    "# Plot cross price elasticity of purchase probability for brand 5 with respect to brand 4\n",
    "fig, axs = plt.subplots(1, 2, figsize = (14, 4))\n",
    "axs[0].plot(price_range, own_price_elasticity_brand_5, color = 'grey')\n",
    "axs[0].set_title('Own Price Elasticity of Purchase Probability for Brand 5')\n",
    "axs[0].set_xlabel('Price 5')\n",
    "\n",
    "axs[1].plot(price_range, brand5_cross_brand4_price_elasticity, color = 'grey')\n",
    "axs[1].set_title('Cross Price Elasticity of Brand 5 wrt Brand 4')\n",
    "axs[1].set_xlabel('Price 4')\n",
    "\n",
    "for ax in axs.flat:\n",
    "    ax.set(ylabel = 'Elasticity')"
   ]
  },
  {
   "cell_type": "markdown",
   "metadata": {},
   "source": [
    "> **Results and Interpretation:**\n",
    "- Brand 4 is a strong substitute for brand 5 for all price up to 1.65\n",
    "- However, price range of brand 4 is between 1.76 and 2.26. At this price range, the elasticity is positive. Brand 5 purchase probability still increases with the increase in price of brand 4, but at a slower rate.\n",
    "- When it comes to the average customer, brand 4 is an albeit weak substitute for brand 5. In light of these results, brand 5 can create a marketing strategy for targeting customers which choose brand 4 and attract them to buy the own brand."
   ]
  },
  {
   "cell_type": "markdown",
   "metadata": {},
   "source": [
    "### Own and Cross-Price Elasticity by Customer Segments"
   ]
  },
  {
   "cell_type": "markdown",
   "metadata": {},
   "source": [
    "#### Fewer opportunities"
   ]
  },
  {
   "cell_type": "code",
   "execution_count": 31,
   "metadata": {},
   "outputs": [],
   "source": [
    "# Filter data to contain only purchase incidences by fewer opportunities segment\n",
    "brand_choice_s0 = df_pa[df_pa['Incidence'] == 1]\n",
    "brand_choice_s0 = brand_choice_s0[brand_choice_s0['Segment'] == 0]\n",
    "\n",
    "# Brand choice model estimation\n",
    "Y = brand_choice_s0['Brand']\n",
    "brand_choice_s0 = pd.get_dummies(brand_choice_s0, columns=['Brand'], prefix = 'Brand', prefix_sep = '_')\n",
    "X = brand_choice_s0[features]\n",
    "model_brand_choice_s0 = LogisticRegression(solver = 'sag', multi_class = 'multinomial', max_iter = 300)\n",
    "model_brand_choice_s0.fit(X, Y)\n",
    "\n",
    "# Coefficients table\n",
    "bc_coef = pd.DataFrame(np.transpose(model_brand_choice_s0.coef_))\n",
    "bc_coef.columns = [coefficients]\n",
    "bc_coef.index = [prices]\n",
    "bc_coef = bc_coef.round(2)\n",
    "\n",
    "# Calculate own-brand price elasticity for brand 5 \n",
    "df_own_brand_5_s0 = pd.DataFrame(index = np.arange(price_range.size))\n",
    "df_own_brand_5_s0['Price_1'] = brand_choice_s0['Price_1'].mean()\n",
    "df_own_brand_5_s0['Price_2'] = brand_choice_s0['Price_2'].mean()\n",
    "df_own_brand_5_s0['Price_3'] = brand_choice_s0['Price_3'].mean()\n",
    "df_own_brand_5_s0['Price_4'] = brand_choice_s0['Price_4'].mean()\n",
    "df_own_brand_5_s0['Price_5'] = price_range\n",
    "\n",
    "predict_own_brand_5_s0 = model_brand_choice_s0.predict_proba(df_own_brand_5_s0)\n",
    "pr_own_brand_5_s0 = predict_own_brand_5_s0[: ][: , 4]\n",
    "\n",
    "# Compute price elasticities and update master data frame\n",
    "own_price_elasticity_brand_5_s0 =  beta5 * price_range * (1 - pr_own_brand_5_s0)\n",
    "df_price_elasticities['Brand_5_S0'] = own_price_elasticity_brand_5_s0\n",
    "\n",
    "# Calculate cross-brand price elasticity for brand 5 with respect to brand 4\n",
    "df_brand5_cross_brand4_s0 = pd.DataFrame(index = np.arange(price_range.size))\n",
    "df_brand5_cross_brand4_s0['Price_1'] = brand_choice_s0['Price_1'].mean()\n",
    "df_brand5_cross_brand4_s0['Price_2'] = brand_choice_s0['Price_2'].mean()\n",
    "df_brand5_cross_brand4_s0['Price_3'] = brand_choice_s0['Price_3'].mean()\n",
    "df_brand5_cross_brand4_s0['Price_4'] = price_range\n",
    "df_brand5_cross_brand4_s0['Price_5'] = brand_choice_s0['Price_5'].mean()\n",
    "\n",
    "predict_brand5_cross_brand4_s0 = model_brand_choice_s0.predict_proba(df_brand5_cross_brand4_s0)\n",
    "pr_cross_brand_5_s0 = predict_brand5_cross_brand4_s0[: ][: , 3]\n",
    "\n",
    "# Compute cross price elasticities and update master data frame\n",
    "brand5_cross_brand4_price_elasticity_s0 = -beta5 * price_range * pr_cross_brand_5_s0\n",
    "df_price_elasticities['Brand_5_Cross_Brand_4_S0'] = brand5_cross_brand4_price_elasticity_s0"
   ]
  },
  {
   "cell_type": "markdown",
   "metadata": {},
   "source": [
    "#### Career focused"
   ]
  },
  {
   "cell_type": "code",
   "execution_count": 32,
   "metadata": {},
   "outputs": [],
   "source": [
    "# Filter data to contain only purchase incidences by career focused segment\n",
    "brand_choice_s1 = df_pa[df_pa['Incidence'] == 1]\n",
    "brand_choice_s1 = brand_choice_s1[brand_choice_s1['Segment'] == 1]\n",
    "\n",
    "# Brand choice model estimation\n",
    "Y = brand_choice_s1['Brand']\n",
    "brand_choice_s1 = pd.get_dummies(brand_choice_s1, columns=['Brand'], prefix = 'Brand', prefix_sep = '_')\n",
    "X = brand_choice_s1[features]\n",
    "model_brand_choice_s1 = LogisticRegression(solver = 'sag', multi_class = 'multinomial', max_iter = 300)\n",
    "model_brand_choice_s1.fit(X, Y)\n",
    "\n",
    "# Coefficients table\n",
    "bc_coef = pd.DataFrame(np.transpose(model_brand_choice_s1.coef_))\n",
    "bc_coef.columns = [coefficients]\n",
    "bc_coef.index = [prices]\n",
    "bc_coef = bc_coef.round(2)\n",
    "\n",
    "# Calculate own-brand price elasticity for brand 5 \n",
    "df_own_brand_5_s1 = pd.DataFrame(index = np.arange(price_range.size))\n",
    "df_own_brand_5_s1['Price_1'] = brand_choice_s1['Price_1'].mean()\n",
    "df_own_brand_5_s1['Price_2'] = brand_choice_s1['Price_2'].mean()\n",
    "df_own_brand_5_s1['Price_3'] = brand_choice_s1['Price_3'].mean()\n",
    "df_own_brand_5_s1['Price_4'] = brand_choice_s1['Price_4'].mean()\n",
    "df_own_brand_5_s1['Price_5'] = price_range\n",
    "\n",
    "predict_own_brand_5_s1 = model_brand_choice_s1.predict_proba(df_own_brand_5_s1)\n",
    "pr_own_brand_5_s1 = predict_own_brand_5_s1[: ][: , 4]\n",
    "\n",
    "# Compute price elasticities and update master data frame\n",
    "own_price_elasticity_brand_5_s1 =  beta5 * price_range * (1 - pr_own_brand_5_s1)\n",
    "df_price_elasticities['Brand_5_S1'] = own_price_elasticity_brand_5_s1\n",
    "\n",
    "# Calculate cross-brand price elasticity for brand 5 with respect to brand 4 \n",
    "df_brand5_cross_brand4_s1 = pd.DataFrame(index = np.arange(price_range.size))\n",
    "df_brand5_cross_brand4_s1['Price_1'] = brand_choice_s1['Price_1'].mean()\n",
    "df_brand5_cross_brand4_s1['Price_2'] = brand_choice_s1['Price_2'].mean()\n",
    "df_brand5_cross_brand4_s1['Price_3'] = brand_choice_s1['Price_3'].mean()\n",
    "df_brand5_cross_brand4_s1['Price_4'] = price_range\n",
    "df_brand5_cross_brand4_s1['Price_5'] = brand_choice_s1['Price_5'].mean()\n",
    "\n",
    "predict_brand5_cross_brand4_s1 = model_brand_choice_s1.predict_proba(df_brand5_cross_brand4_s1)\n",
    "pr_cross_brand_5_s1 = predict_brand5_cross_brand4_s1[: ][: , 3]\n",
    "\n",
    "# Compute cross price elasticities and update master data frame\n",
    "brand5_cross_brand4_price_elasticity_s1 = -beta5 * price_range * pr_cross_brand_5_s1\n",
    "df_price_elasticities['Brand_5_Cross_Brand_4_S1'] = brand5_cross_brand4_price_elasticity_s1"
   ]
  },
  {
   "cell_type": "markdown",
   "metadata": {},
   "source": [
    "#### Standard"
   ]
  },
  {
   "cell_type": "code",
   "execution_count": 33,
   "metadata": {},
   "outputs": [],
   "source": [
    "# Filter data to contain only purchase incidences by standard segment\n",
    "brand_choice_s2 = df_pa[df_pa['Incidence'] == 1]\n",
    "brand_choice_s2 = brand_choice_s2[brand_choice_s2['Segment'] == 2]\n",
    "\n",
    "# Brand choice model estimation\n",
    "Y = brand_choice_s2['Brand']\n",
    "brand_choice_s2 = pd.get_dummies(brand_choice_s2, columns=['Brand'], prefix = 'Brand', prefix_sep = '_')\n",
    "X = brand_choice_s2[features]\n",
    "model_brand_choice_s2 = LogisticRegression(solver = 'sag', multi_class = 'multinomial', max_iter = 300)\n",
    "model_brand_choice_s2.fit(X, Y)\n",
    "\n",
    "# Coefficients table\n",
    "bc_coef = pd.DataFrame(np.transpose(model_brand_choice_s2.coef_))\n",
    "bc_coef.columns = [coefficients]\n",
    "bc_coef.index = [prices]\n",
    "bc_coef = bc_coef.round(2)\n",
    "\n",
    "# Calculate own-brand price elasticity for brand 5\n",
    "df_own_brand_5_s2 = pd.DataFrame(index = np.arange(price_range.size))\n",
    "df_own_brand_5_s2['Price_1'] = brand_choice_s2['Price_1'].mean()\n",
    "df_own_brand_5_s2['Price_2'] = brand_choice_s2['Price_2'].mean()\n",
    "df_own_brand_5_s2['Price_3'] = brand_choice_s2['Price_3'].mean()\n",
    "df_own_brand_5_s2['Price_4'] = brand_choice_s2['Price_4'].mean()\n",
    "df_own_brand_5_s2['Price_5'] = price_range\n",
    "\n",
    "predict_own_brand_5_s2 = model_brand_choice_s2.predict_proba(df_own_brand_5_s2)\n",
    "pr_own_brand_5_s2 = predict_own_brand_5_s2[: ][: , 4]\n",
    "\n",
    "# Compute price elasticities and update master data frame\n",
    "own_price_elasticity_brand_5_s2 =  beta5 * price_range * (1 - pr_own_brand_5_s2)\n",
    "df_price_elasticities['Brand_5_S2'] = own_price_elasticity_brand_5_s2\n",
    "\n",
    "# Calculate cross-brand price elasticity for brand 5 with respect to brand 4 \n",
    "df_brand5_cross_brand4_s2 = pd.DataFrame(index = np.arange(price_range.size))\n",
    "df_brand5_cross_brand4_s2['Price_1'] = brand_choice_s2['Price_1'].mean()\n",
    "df_brand5_cross_brand4_s2['Price_2'] = brand_choice_s2['Price_2'].mean()\n",
    "df_brand5_cross_brand4_s2['Price_3'] = brand_choice_s2['Price_3'].mean()\n",
    "df_brand5_cross_brand4_s2['Price_4'] = price_range\n",
    "df_brand5_cross_brand4_s2['Price_5'] = brand_choice_s2['Price_5'].mean()\n",
    "\n",
    "predict_brand5_cross_brand4_s2 = model_brand_choice_s2.predict_proba(df_brand5_cross_brand4_s2)\n",
    "pr_cross_brand_5_s2 = predict_brand5_cross_brand4_s2[: ][: , 3]\n",
    "\n",
    "# Compute cross price elasticities and update master data frame\n",
    "brand5_cross_brand4_price_elasticity_s2 = -beta5 * price_range * pr_cross_brand_5_s2\n",
    "df_price_elasticities['Brand_5_Cross_Brand_4_S2'] = brand5_cross_brand4_price_elasticity_s2"
   ]
  },
  {
   "cell_type": "markdown",
   "metadata": {},
   "source": [
    "#### Well-off"
   ]
  },
  {
   "cell_type": "code",
   "execution_count": 34,
   "metadata": {},
   "outputs": [],
   "source": [
    "# Filter data to contain only purchase incidences by well-off segment\n",
    "brand_choice_s3 = df_pa[df_pa['Incidence'] == 1]\n",
    "brand_choice_s3 = brand_choice_s3[brand_choice_s3['Segment'] == 3]\n",
    "\n",
    "# Brand choice model estimation\n",
    "Y = brand_choice_s3['Brand']\n",
    "brand_choice_s3 = pd.get_dummies(brand_choice_s3, columns=['Brand'], prefix = 'Brand', prefix_sep = '_')\n",
    "X = brand_choice_s3[features]\n",
    "model_brand_choice_s3 = LogisticRegression(solver = 'sag', multi_class = 'multinomial', max_iter = 300)\n",
    "model_brand_choice_s3.fit(X, Y)\n",
    "\n",
    "# Coefficients table\n",
    "bc_coef = pd.DataFrame(np.transpose(model_brand_choice_s3.coef_))\n",
    "bc_coef.columns = [coefficients]\n",
    "bc_coef.index = [prices]\n",
    "bc_coef = bc_coef.round(2)\n",
    "\n",
    "# Calculate own-brand price elasticity for brand 5\n",
    "df_own_brand_5_s3 = pd.DataFrame(index = np.arange(price_range.size))\n",
    "df_own_brand_5_s3['Price_1'] = brand_choice_s3['Price_1'].mean()\n",
    "df_own_brand_5_s3['Price_2'] = brand_choice_s3['Price_2'].mean()\n",
    "df_own_brand_5_s3['Price_3'] = brand_choice_s3['Price_3'].mean()\n",
    "df_own_brand_5_s3['Price_4'] = brand_choice_s3['Price_4'].mean()\n",
    "df_own_brand_5_s3['Price_5'] = price_range\n",
    "\n",
    "predict_own_brand_5_s3 = model_brand_choice_s3.predict_proba(df_own_brand_5_s3)\n",
    "pr_own_brand_5_s3 = predict_own_brand_5_s3[: ][: , 4]\n",
    "\n",
    "# Compute price elasticities and update master data frame\n",
    "own_price_elasticity_brand_5_s3 =  beta5 * price_range * (1 - pr_own_brand_5_s3)\n",
    "df_price_elasticities['Brand_5_S3'] = own_price_elasticity_brand_5_s3\n",
    "\n",
    "# Calculate cross-brand price elasticity for brand 5 with respect to brand 4 \n",
    "df_brand5_cross_brand4_s3 = pd.DataFrame(index = np.arange(price_range.size))\n",
    "df_brand5_cross_brand4_s3['Price_1'] = brand_choice_s3['Price_1'].mean()\n",
    "df_brand5_cross_brand4_s3['Price_2'] = brand_choice_s3['Price_2'].mean()\n",
    "df_brand5_cross_brand4_s3['Price_3'] = brand_choice_s3['Price_3'].mean()\n",
    "df_brand5_cross_brand4_s3['Price_4'] = price_range\n",
    "df_brand5_cross_brand4_s3['Price_5'] = brand_choice_s3['Price_5'].mean()\n",
    "\n",
    "predict_brand5_cross_brand4_s3 = model_brand_choice_s3.predict_proba(df_brand5_cross_brand4_s3)\n",
    "pr_cross_brand_5_s3 = predict_brand5_cross_brand4_s3[: ][: , 3]\n",
    "\n",
    "# Compute cross price elasticities and update master data frame\n",
    "brand5_cross_brand4_price_elasticity_s3 = -beta5 * price_range * pr_cross_brand_5_s3\n",
    "df_price_elasticities['Brand_5_Cross_Brand_4_S3'] = brand5_cross_brand4_price_elasticity_s3"
   ]
  },
  {
   "cell_type": "code",
   "execution_count": 35,
   "metadata": {},
   "outputs": [
    {
     "data": {
      "text/html": [
       "<div>\n",
       "<style scoped>\n",
       "    .dataframe tbody tr th:only-of-type {\n",
       "        vertical-align: middle;\n",
       "    }\n",
       "\n",
       "    .dataframe tbody tr th {\n",
       "        vertical-align: top;\n",
       "    }\n",
       "\n",
       "    .dataframe thead th {\n",
       "        text-align: right;\n",
       "    }\n",
       "</style>\n",
       "<table border=\"1\" class=\"dataframe\">\n",
       "  <thead>\n",
       "    <tr style=\"text-align: right;\">\n",
       "      <th></th>\n",
       "      <th>Price_Point</th>\n",
       "      <th>Mean_PE</th>\n",
       "      <th>PE_Segment_0</th>\n",
       "      <th>PE_Segment_1</th>\n",
       "      <th>PE_Segment_2</th>\n",
       "      <th>PE_Segment_3</th>\n",
       "      <th>Elasticity_Promotion_1</th>\n",
       "      <th>Elasticity_Promotion_0</th>\n",
       "      <th>Brand_5</th>\n",
       "      <th>Brand_5_Cross_Brand_4</th>\n",
       "      <th>Brand_5_S0</th>\n",
       "      <th>Brand_5_Cross_Brand_4_S0</th>\n",
       "      <th>Brand_5_S1</th>\n",
       "      <th>Brand_5_Cross_Brand_4_S1</th>\n",
       "      <th>Brand_5_S2</th>\n",
       "      <th>Brand_5_Cross_Brand_4_S2</th>\n",
       "      <th>Brand_5_S3</th>\n",
       "      <th>Brand_5_Cross_Brand_4_S3</th>\n",
       "    </tr>\n",
       "  </thead>\n",
       "  <tbody>\n",
       "    <tr>\n",
       "      <th>0</th>\n",
       "      <td>0.50</td>\n",
       "      <td>-0.096316</td>\n",
       "      <td>-0.032421</td>\n",
       "      <td>-0.118585</td>\n",
       "      <td>-0.211172</td>\n",
       "      <td>-0.165258</td>\n",
       "      <td>-0.125782</td>\n",
       "      <td>-0.195675</td>\n",
       "      <td>-0.049055</td>\n",
       "      <td>0.332012</td>\n",
       "      <td>-0.001038</td>\n",
       "      <td>0.172835</td>\n",
       "      <td>-0.039243</td>\n",
       "      <td>0.196463</td>\n",
       "      <td>-0.115839</td>\n",
       "      <td>0.174120</td>\n",
       "      <td>-0.298403</td>\n",
       "      <td>0.482872</td>\n",
       "    </tr>\n",
       "    <tr>\n",
       "      <th>1</th>\n",
       "      <td>0.51</td>\n",
       "      <td>-0.100381</td>\n",
       "      <td>-0.034260</td>\n",
       "      <td>-0.122766</td>\n",
       "      <td>-0.217742</td>\n",
       "      <td>-0.170177</td>\n",
       "      <td>-0.129899</td>\n",
       "      <td>-0.201797</td>\n",
       "      <td>-0.050616</td>\n",
       "      <td>0.337288</td>\n",
       "      <td>-0.001100</td>\n",
       "      <td>0.175106</td>\n",
       "      <td>-0.040244</td>\n",
       "      <td>0.198958</td>\n",
       "      <td>-0.118879</td>\n",
       "      <td>0.176176</td>\n",
       "      <td>-0.304462</td>\n",
       "      <td>0.492184</td>\n",
       "    </tr>\n",
       "    <tr>\n",
       "      <th>2</th>\n",
       "      <td>0.52</td>\n",
       "      <td>-0.104572</td>\n",
       "      <td>-0.036190</td>\n",
       "      <td>-0.127040</td>\n",
       "      <td>-0.224420</td>\n",
       "      <td>-0.175170</td>\n",
       "      <td>-0.134096</td>\n",
       "      <td>-0.208021</td>\n",
       "      <td>-0.052206</td>\n",
       "      <td>0.342507</td>\n",
       "      <td>-0.001165</td>\n",
       "      <td>0.177333</td>\n",
       "      <td>-0.041256</td>\n",
       "      <td>0.201401</td>\n",
       "      <td>-0.121953</td>\n",
       "      <td>0.178180</td>\n",
       "      <td>-0.310530</td>\n",
       "      <td>0.501481</td>\n",
       "    </tr>\n",
       "    <tr>\n",
       "      <th>3</th>\n",
       "      <td>0.53</td>\n",
       "      <td>-0.108893</td>\n",
       "      <td>-0.038213</td>\n",
       "      <td>-0.131410</td>\n",
       "      <td>-0.231206</td>\n",
       "      <td>-0.180236</td>\n",
       "      <td>-0.138372</td>\n",
       "      <td>-0.214348</td>\n",
       "      <td>-0.053827</td>\n",
       "      <td>0.347669</td>\n",
       "      <td>-0.001233</td>\n",
       "      <td>0.179516</td>\n",
       "      <td>-0.042277</td>\n",
       "      <td>0.203793</td>\n",
       "      <td>-0.125062</td>\n",
       "      <td>0.180134</td>\n",
       "      <td>-0.316608</td>\n",
       "      <td>0.510761</td>\n",
       "    </tr>\n",
       "    <tr>\n",
       "      <th>4</th>\n",
       "      <td>0.54</td>\n",
       "      <td>-0.113347</td>\n",
       "      <td>-0.040334</td>\n",
       "      <td>-0.135877</td>\n",
       "      <td>-0.238102</td>\n",
       "      <td>-0.185378</td>\n",
       "      <td>-0.142729</td>\n",
       "      <td>-0.220780</td>\n",
       "      <td>-0.055477</td>\n",
       "      <td>0.352773</td>\n",
       "      <td>-0.001305</td>\n",
       "      <td>0.181656</td>\n",
       "      <td>-0.043309</td>\n",
       "      <td>0.206134</td>\n",
       "      <td>-0.128206</td>\n",
       "      <td>0.182038</td>\n",
       "      <td>-0.322698</td>\n",
       "      <td>0.520026</td>\n",
       "    </tr>\n",
       "  </tbody>\n",
       "</table>\n",
       "</div>"
      ],
      "text/plain": [
       "   Price_Point   Mean_PE  PE_Segment_0  PE_Segment_1  PE_Segment_2  \\\n",
       "0         0.50 -0.096316     -0.032421     -0.118585     -0.211172   \n",
       "1         0.51 -0.100381     -0.034260     -0.122766     -0.217742   \n",
       "2         0.52 -0.104572     -0.036190     -0.127040     -0.224420   \n",
       "3         0.53 -0.108893     -0.038213     -0.131410     -0.231206   \n",
       "4         0.54 -0.113347     -0.040334     -0.135877     -0.238102   \n",
       "\n",
       "   PE_Segment_3  Elasticity_Promotion_1  Elasticity_Promotion_0   Brand_5  \\\n",
       "0     -0.165258               -0.125782               -0.195675 -0.049055   \n",
       "1     -0.170177               -0.129899               -0.201797 -0.050616   \n",
       "2     -0.175170               -0.134096               -0.208021 -0.052206   \n",
       "3     -0.180236               -0.138372               -0.214348 -0.053827   \n",
       "4     -0.185378               -0.142729               -0.220780 -0.055477   \n",
       "\n",
       "   Brand_5_Cross_Brand_4  Brand_5_S0  Brand_5_Cross_Brand_4_S0  Brand_5_S1  \\\n",
       "0               0.332012   -0.001038                  0.172835   -0.039243   \n",
       "1               0.337288   -0.001100                  0.175106   -0.040244   \n",
       "2               0.342507   -0.001165                  0.177333   -0.041256   \n",
       "3               0.347669   -0.001233                  0.179516   -0.042277   \n",
       "4               0.352773   -0.001305                  0.181656   -0.043309   \n",
       "\n",
       "   Brand_5_Cross_Brand_4_S1  Brand_5_S2  Brand_5_Cross_Brand_4_S2  Brand_5_S3  \\\n",
       "0                  0.196463   -0.115839                  0.174120   -0.298403   \n",
       "1                  0.198958   -0.118879                  0.176176   -0.304462   \n",
       "2                  0.201401   -0.121953                  0.178180   -0.310530   \n",
       "3                  0.203793   -0.125062                  0.180134   -0.316608   \n",
       "4                  0.206134   -0.128206                  0.182038   -0.322698   \n",
       "\n",
       "   Brand_5_Cross_Brand_4_S3  \n",
       "0                  0.482872  \n",
       "1                  0.492184  \n",
       "2                  0.501481  \n",
       "3                  0.510761  \n",
       "4                  0.520026  "
      ]
     },
     "execution_count": 35,
     "metadata": {},
     "output_type": "execute_result"
    }
   ],
   "source": [
    "df_price_elasticities.head()"
   ]
  },
  {
   "cell_type": "code",
   "execution_count": 36,
   "metadata": {},
   "outputs": [
    {
     "data": {
      "image/png": "[encoded data removed]",
      "text/plain": [
       "<Figure size 792x648 with 10 Axes>"
      ]
     },
     "metadata": {},
     "output_type": "display_data"
    }
   ],
   "source": [
    "# Plot the own and cross brand price elasticities for the average customer and each of the four segments.\n",
    "fig1, (ax1, ax2, ax3, ax4, ax5) = plt.subplots(5, 2, figsize = (11, 9), sharex = True)\n",
    "ax1[0].plot(price_range, own_price_elasticity_brand_5, 'tab:grey')\n",
    "ax1[0].set_title('Brand 5 Average Customer')\n",
    "ax1[0].set_ylabel('Elasticity')\n",
    "ax1[1].plot(price_range, brand5_cross_brand4_price_elasticity, 'tab:grey')\n",
    "ax1[1].set_title('Cross Brand 4 Average Customer')\n",
    "\n",
    "ax2[0].plot(price_range, own_price_elasticity_brand_5_s0, 'tab:green')\n",
    "ax2[0].set_title('Brand 5 Segment Fewer-Opportunities')\n",
    "ax2[0].set_ylabel('Elasticity')\n",
    "ax2[1].plot(price_range, brand5_cross_brand4_price_elasticity_s0, 'tab:green')\n",
    "ax2[1].set_title('Cross Brand 4 Segment Fewer-Opportunities')\n",
    "\n",
    "ax3[0].plot(price_range, own_price_elasticity_brand_5_s1, 'tab:orange')\n",
    "ax3[0].set_title('Brand 5 Segment Career-Focused')\n",
    "ax3[0].set_ylabel('Elasticity')\n",
    "ax3[1].plot(price_range, brand5_cross_brand4_price_elasticity_s1, 'tab:orange')\n",
    "ax3[1].set_title('Cross Brand 4 Segment Career-Focused')\n",
    "\n",
    "ax4[0].plot(price_range, own_price_elasticity_brand_5_s2, 'tab:red')\n",
    "ax4[0].set_title('Brand 5 Segment Standard')\n",
    "ax4[0].set_ylabel('Elasticity')\n",
    "ax4[1].plot(price_range, brand5_cross_brand4_price_elasticity_s2, 'tab:red')\n",
    "ax4[1].set_title('Cross Brand 4 Segment Standard')\n",
    "\n",
    "ax5[0].plot(price_range, own_price_elasticity_brand_5_s3, 'tab:blue')\n",
    "ax5[0].set_title('Brand 5 Segment Well-Off')\n",
    "ax5[0].set_xlabel('Price 5')\n",
    "ax5[0].set_ylabel('Elasticity')\n",
    "ax5[1].plot(price_range, brand5_cross_brand4_price_elasticity_s3, 'tab:blue')\n",
    "ax5[1].set_title('Cross Brand 4 Segment Well-Off')\n",
    "ax5[1].set_xlabel('Price 4');"
   ]
  },
  {
   "cell_type": "markdown",
   "metadata": {},
   "source": [
    "> **Results and Interpretation:**\n",
    "- Standard customer is more elastic when compared to the average. The difference becomes even more pronounced when compared the standards to career focused and well-off segment in the price range 2.1-2.8. The elasticity of the standard segment is between -1.42 and -2.7. Therefore, its purchase probability for the own brand is elastic for the entire observed price range of the brand.\n",
    "- Career focused customers are the least elastic among the rest. They are inelastic throughout the whole price range. It means this segment is not really affected by the increase in price of the own brand. In addition, their cross price elasticity also has extremely low values. This shows that they are unlikely to switch to the competitor brand. The marketing team could increase prices of our own brand without fear of losing too much market share.\n",
    "- The own price elasticity of the fewer opportunities segment has a more pronounced shape. This segment is inelastic at lower price point but rapidly becomes the most elastic customers at higher prices. It is important to notice that this segment almost never buys brand 5 or brand 4. Less than 1 percent of their customers have purchased one of these brands. Therefore, there were not enough observations to obtain an accurate model and that is the reason why both curves look so out of character. In order for marketing to target this segment in particular brand 5, more data of purchases from this segment is needed. However, these people might be simply not the target group as brand 5 may be too pricey for this segment and more data may never be obtained\n",
    "- It appears that career focused and well-off segments require the most attention as they are actually the people that purchase brand 5\n",
    "- The well-off segment is much more elastic than the career focused. Therefore, if we were to increase our prices, this would barely affect the career focused but would seriously damage our well-off segment sales.\n",
    "- If brand4 were to decrease their price, it would affect the well-off segment but not the career focused. Therefore, a tiny decrease in our pricing would compensate such competitor move. This is extremely important to know because if prices of chocolate candy bars were to drop, we would have space to decrease our price offering while gaining solid market share from the well-off segment and practically retaining our career focused customer base."
   ]
  },
  {
   "cell_type": "markdown",
   "metadata": {},
   "source": [
    "<a id='quantity'></a>\n",
    "### Purchase Quantity"
   ]
  },
  {
   "cell_type": "markdown",
   "metadata": {},
   "source": [
    "$E = \\frac{\\Delta Quantity}{\\Delta Price} * \\frac{Price}{Quantity} = \\beta * \\frac{Price}{Quantity}$"
   ]
  },
  {
   "cell_type": "markdown",
   "metadata": {},
   "source": [
    "#### Data Preparation"
   ]
  },
  {
   "cell_type": "code",
   "execution_count": 37,
   "metadata": {},
   "outputs": [],
   "source": [
    "df_purchase_quantity = df_pa[df_pa['Incidence'] == 1]\n",
    "\n",
    "# Create brand dummies, for each of the five brands.\n",
    "df_purchase_quantity = pd.get_dummies(df_purchase_quantity, columns = ['Brand'], prefix = 'Brand', prefix_sep = '_')\n",
    "\n",
    "# Find the price of the product that is chosen at this incidence\n",
    "df_purchase_quantity['Price_Incidence'] = (df_purchase_quantity['Brand_1'] * df_purchase_quantity['Price_1'] +\n",
    "                                           df_purchase_quantity['Brand_2'] * df_purchase_quantity['Price_2'] +\n",
    "                                           df_purchase_quantity['Brand_3'] * df_purchase_quantity['Price_3'] +\n",
    "                                           df_purchase_quantity['Brand_4'] * df_purchase_quantity['Price_4'] +\n",
    "                                           df_purchase_quantity['Brand_5'] * df_purchase_quantity['Price_5'] )\n",
    "\n",
    "# Find the price of the product that is chosen at this incidence\n",
    "df_purchase_quantity['Promotion_Incidence'] = (df_purchase_quantity['Brand_1'] * df_purchase_quantity['Promotion_1'] +\n",
    "                                               df_purchase_quantity['Brand_2'] * df_purchase_quantity['Promotion_2'] +\n",
    "                                               df_purchase_quantity['Brand_3'] * df_purchase_quantity['Promotion_3'] +\n",
    "                                               df_purchase_quantity['Brand_4'] * df_purchase_quantity['Promotion_4'] +\n",
    "                                               df_purchase_quantity['Brand_5'] * df_purchase_quantity['Promotion_5'] )"
   ]
  },
  {
   "cell_type": "markdown",
   "metadata": {},
   "source": [
    "#### Multiple Linear Regression\n",
    "Multiple linear regression model to predict the purchase quantity by price and promotion features in the model."
   ]
  },
  {
   "cell_type": "code",
   "execution_count": 38,
   "metadata": {
    "scrolled": false
   },
   "outputs": [
    {
     "data": {
      "text/plain": [
       "LinearRegression()"
      ]
     },
     "execution_count": 38,
     "metadata": {},
     "output_type": "execute_result"
    }
   ],
   "source": [
    "X = df_purchase_quantity[['Price_Incidence', 'Promotion_Incidence']]\n",
    "Y = df_purchase_quantity['Quantity']\n",
    "\n",
    "model_quantity = LinearRegression()\n",
    "model_quantity.fit(X, Y)"
   ]
  },
  {
   "cell_type": "markdown",
   "metadata": {},
   "source": [
    "### Price Elasticity of Purcahse Quantity with Promotion"
   ]
  },
  {
   "cell_type": "code",
   "execution_count": 39,
   "metadata": {},
   "outputs": [],
   "source": [
    "# Examine the price elasticity of purchase quantity with active promotional activities for each price point\n",
    "df_price_elasticity_quantity = pd.DataFrame(index = np.arange(price_range.size))\n",
    "df_price_elasticity_quantity['Price_Incidence'] = price_range\n",
    "df_price_elasticity_quantity['Promotion_Incidence'] = 1\n",
    "\n",
    "# Coefficient for price\n",
    "beta_quantity = model_quantity.coef_[0]\n",
    "\n",
    "predict_quantity = model_quantity.predict(df_price_elasticity_quantity)\n",
    "\n",
    "# Calculate the price elasticity\n",
    "price_elasticity_quantity_promotion_yes = beta_quantity * price_range / predict_quantity\n",
    "\n",
    "# Update price elasticities data frame\n",
    "df_price_elasticities['PE_Quantity_Promotion_1'] = price_elasticity_quantity_promotion_yes"
   ]
  },
  {
   "cell_type": "markdown",
   "metadata": {},
   "source": [
    "### Price Elasticity of Purcahse Quantity without Promotion"
   ]
  },
  {
   "cell_type": "code",
   "execution_count": 40,
   "metadata": {},
   "outputs": [],
   "source": [
    "# Examine the price elasticity of purchase quantity with no promotional activities for each price point\n",
    "df_price_elasticity_quantity['Promotion_Incidence'] = 0\n",
    "\n",
    "predict_quantity = model_quantity.predict(df_price_elasticity_quantity)\n",
    "\n",
    "# Calculate the price elasticity\n",
    "price_elasticity_quantity_promotion_no = beta_quantity * price_range / predict_quantity\n",
    "\n",
    "# Update price elasticities data frame\n",
    "df_price_elasticities['PE_Quantity_Promotion_0'] = price_elasticity_quantity_promotion_no"
   ]
  },
  {
   "cell_type": "code",
   "execution_count": 41,
   "metadata": {},
   "outputs": [
    {
     "data": {
      "text/html": [
       "<div>\n",
       "<style scoped>\n",
       "    .dataframe tbody tr th:only-of-type {\n",
       "        vertical-align: middle;\n",
       "    }\n",
       "\n",
       "    .dataframe tbody tr th {\n",
       "        vertical-align: top;\n",
       "    }\n",
       "\n",
       "    .dataframe thead th {\n",
       "        text-align: right;\n",
       "    }\n",
       "</style>\n",
       "<table border=\"1\" class=\"dataframe\">\n",
       "  <thead>\n",
       "    <tr style=\"text-align: right;\">\n",
       "      <th></th>\n",
       "      <th>Price_Point</th>\n",
       "      <th>Mean_PE</th>\n",
       "      <th>PE_Segment_0</th>\n",
       "      <th>PE_Segment_1</th>\n",
       "      <th>PE_Segment_2</th>\n",
       "      <th>PE_Segment_3</th>\n",
       "      <th>Elasticity_Promotion_1</th>\n",
       "      <th>Elasticity_Promotion_0</th>\n",
       "      <th>Brand_5</th>\n",
       "      <th>Brand_5_Cross_Brand_4</th>\n",
       "      <th>Brand_5_S0</th>\n",
       "      <th>Brand_5_Cross_Brand_4_S0</th>\n",
       "      <th>Brand_5_S1</th>\n",
       "      <th>Brand_5_Cross_Brand_4_S1</th>\n",
       "      <th>Brand_5_S2</th>\n",
       "      <th>Brand_5_Cross_Brand_4_S2</th>\n",
       "      <th>Brand_5_S3</th>\n",
       "      <th>Brand_5_Cross_Brand_4_S3</th>\n",
       "      <th>PE_Quantity_Promotion_1</th>\n",
       "      <th>PE_Quantity_Promotion_0</th>\n",
       "    </tr>\n",
       "  </thead>\n",
       "  <tbody>\n",
       "    <tr>\n",
       "      <th>0</th>\n",
       "      <td>0.50</td>\n",
       "      <td>-0.096316</td>\n",
       "      <td>-0.032421</td>\n",
       "      <td>-0.118585</td>\n",
       "      <td>-0.211172</td>\n",
       "      <td>-0.165258</td>\n",
       "      <td>-0.125782</td>\n",
       "      <td>-0.195675</td>\n",
       "      <td>-0.049055</td>\n",
       "      <td>0.332012</td>\n",
       "      <td>-0.001038</td>\n",
       "      <td>0.172835</td>\n",
       "      <td>-0.039243</td>\n",
       "      <td>0.196463</td>\n",
       "      <td>-0.115839</td>\n",
       "      <td>0.174120</td>\n",
       "      <td>-0.298403</td>\n",
       "      <td>0.482872</td>\n",
       "      <td>-0.102157</td>\n",
       "      <td>-0.099543</td>\n",
       "    </tr>\n",
       "    <tr>\n",
       "      <th>1</th>\n",
       "      <td>0.51</td>\n",
       "      <td>-0.100381</td>\n",
       "      <td>-0.034260</td>\n",
       "      <td>-0.122766</td>\n",
       "      <td>-0.217742</td>\n",
       "      <td>-0.170177</td>\n",
       "      <td>-0.129899</td>\n",
       "      <td>-0.201797</td>\n",
       "      <td>-0.050616</td>\n",
       "      <td>0.337288</td>\n",
       "      <td>-0.001100</td>\n",
       "      <td>0.175106</td>\n",
       "      <td>-0.040244</td>\n",
       "      <td>0.198958</td>\n",
       "      <td>-0.118879</td>\n",
       "      <td>0.176176</td>\n",
       "      <td>-0.304462</td>\n",
       "      <td>0.492184</td>\n",
       "      <td>-0.104413</td>\n",
       "      <td>-0.101736</td>\n",
       "    </tr>\n",
       "    <tr>\n",
       "      <th>2</th>\n",
       "      <td>0.52</td>\n",
       "      <td>-0.104572</td>\n",
       "      <td>-0.036190</td>\n",
       "      <td>-0.127040</td>\n",
       "      <td>-0.224420</td>\n",
       "      <td>-0.175170</td>\n",
       "      <td>-0.134096</td>\n",
       "      <td>-0.208021</td>\n",
       "      <td>-0.052206</td>\n",
       "      <td>0.342507</td>\n",
       "      <td>-0.001165</td>\n",
       "      <td>0.177333</td>\n",
       "      <td>-0.041256</td>\n",
       "      <td>0.201401</td>\n",
       "      <td>-0.121953</td>\n",
       "      <td>0.178180</td>\n",
       "      <td>-0.310530</td>\n",
       "      <td>0.501481</td>\n",
       "      <td>-0.106679</td>\n",
       "      <td>-0.103939</td>\n",
       "    </tr>\n",
       "    <tr>\n",
       "      <th>3</th>\n",
       "      <td>0.53</td>\n",
       "      <td>-0.108893</td>\n",
       "      <td>-0.038213</td>\n",
       "      <td>-0.131410</td>\n",
       "      <td>-0.231206</td>\n",
       "      <td>-0.180236</td>\n",
       "      <td>-0.138372</td>\n",
       "      <td>-0.214348</td>\n",
       "      <td>-0.053827</td>\n",
       "      <td>0.347669</td>\n",
       "      <td>-0.001233</td>\n",
       "      <td>0.179516</td>\n",
       "      <td>-0.042277</td>\n",
       "      <td>0.203793</td>\n",
       "      <td>-0.125062</td>\n",
       "      <td>0.180134</td>\n",
       "      <td>-0.316608</td>\n",
       "      <td>0.510761</td>\n",
       "      <td>-0.108954</td>\n",
       "      <td>-0.106150</td>\n",
       "    </tr>\n",
       "    <tr>\n",
       "      <th>4</th>\n",
       "      <td>0.54</td>\n",
       "      <td>-0.113347</td>\n",
       "      <td>-0.040334</td>\n",
       "      <td>-0.135877</td>\n",
       "      <td>-0.238102</td>\n",
       "      <td>-0.185378</td>\n",
       "      <td>-0.142729</td>\n",
       "      <td>-0.220780</td>\n",
       "      <td>-0.055477</td>\n",
       "      <td>0.352773</td>\n",
       "      <td>-0.001305</td>\n",
       "      <td>0.181656</td>\n",
       "      <td>-0.043309</td>\n",
       "      <td>0.206134</td>\n",
       "      <td>-0.128206</td>\n",
       "      <td>0.182038</td>\n",
       "      <td>-0.322698</td>\n",
       "      <td>0.520026</td>\n",
       "      <td>-0.111238</td>\n",
       "      <td>-0.108369</td>\n",
       "    </tr>\n",
       "  </tbody>\n",
       "</table>\n",
       "</div>"
      ],
      "text/plain": [
       "   Price_Point   Mean_PE  PE_Segment_0  PE_Segment_1  PE_Segment_2  \\\n",
       "0         0.50 -0.096316     -0.032421     -0.118585     -0.211172   \n",
       "1         0.51 -0.100381     -0.034260     -0.122766     -0.217742   \n",
       "2         0.52 -0.104572     -0.036190     -0.127040     -0.224420   \n",
       "3         0.53 -0.108893     -0.038213     -0.131410     -0.231206   \n",
       "4         0.54 -0.113347     -0.040334     -0.135877     -0.238102   \n",
       "\n",
       "   PE_Segment_3  Elasticity_Promotion_1  Elasticity_Promotion_0   Brand_5  \\\n",
       "0     -0.165258               -0.125782               -0.195675 -0.049055   \n",
       "1     -0.170177               -0.129899               -0.201797 -0.050616   \n",
       "2     -0.175170               -0.134096               -0.208021 -0.052206   \n",
       "3     -0.180236               -0.138372               -0.214348 -0.053827   \n",
       "4     -0.185378               -0.142729               -0.220780 -0.055477   \n",
       "\n",
       "   Brand_5_Cross_Brand_4  Brand_5_S0  Brand_5_Cross_Brand_4_S0  Brand_5_S1  \\\n",
       "0               0.332012   -0.001038                  0.172835   -0.039243   \n",
       "1               0.337288   -0.001100                  0.175106   -0.040244   \n",
       "2               0.342507   -0.001165                  0.177333   -0.041256   \n",
       "3               0.347669   -0.001233                  0.179516   -0.042277   \n",
       "4               0.352773   -0.001305                  0.181656   -0.043309   \n",
       "\n",
       "   Brand_5_Cross_Brand_4_S1  Brand_5_S2  Brand_5_Cross_Brand_4_S2  Brand_5_S3  \\\n",
       "0                  0.196463   -0.115839                  0.174120   -0.298403   \n",
       "1                  0.198958   -0.118879                  0.176176   -0.304462   \n",
       "2                  0.201401   -0.121953                  0.178180   -0.310530   \n",
       "3                  0.203793   -0.125062                  0.180134   -0.316608   \n",
       "4                  0.206134   -0.128206                  0.182038   -0.322698   \n",
       "\n",
       "   Brand_5_Cross_Brand_4_S3  PE_Quantity_Promotion_1  PE_Quantity_Promotion_0  \n",
       "0                  0.482872                -0.102157                -0.099543  \n",
       "1                  0.492184                -0.104413                -0.101736  \n",
       "2                  0.501481                -0.106679                -0.103939  \n",
       "3                  0.510761                -0.108954                -0.106150  \n",
       "4                  0.520026                -0.111238                -0.108369  "
      ]
     },
     "execution_count": 41,
     "metadata": {},
     "output_type": "execute_result"
    }
   ],
   "source": [
    "df_price_elasticities.head()"
   ]
  },
  {
   "cell_type": "code",
   "execution_count": 42,
   "metadata": {},
   "outputs": [
    {
     "data": {
      "image/png": "[encoded data removed]",
      "text/plain": [
       "<Figure size 648x432 with 1 Axes>"
      ]
     },
     "metadata": {},
     "output_type": "display_data"
    }
   ],
   "source": [
    "# Plot the two price elasticities of purchase quantity with and without promotion. \n",
    "plt.figure(figsize = (9, 6))\n",
    "plt.plot(price_range, price_elasticity_quantity_promotion_no, label = 'without promotion')\n",
    "plt.plot(price_range, price_elasticity_quantity_promotion_yes, label = 'with promotion')\n",
    "plt.xlabel('Price')\n",
    "plt.ylabel('Elasticity')\n",
    "plt.legend()\n",
    "plt.title('Price Elasticity of Purchase Quantity with and without Promotion')\n",
    "plt.show()"
   ]
  },
  {
   "cell_type": "markdown",
   "metadata": {},
   "source": [
    "> **Results and Interpretation:**\n",
    "- Customers are a tiny bit more elastic when there is a promotion. \n",
    "- However, overall customers are inelastic towards purchase quantity for all prices from 0.5-2.7. The most expensive brand cost 2.8 dollars at most. Furthermore promotion doesn't look like such a big factor either.\n",
    "- The two lines practically overlap at many of the price points. The reason might be that the variables that included in the model hold no predictive value. Therefore it might seem like it doesn't really make sense to focus too much on the purchase quantity. Neither price nor promotions shifts appear to affect the customer's decision."
   ]
  },
  {
   "cell_type": "code",
   "execution_count": null,
   "metadata": {},
   "outputs": [],
   "source": []
  }
 ],
 "metadata": {
  "kernelspec": {
   "display_name": "Python 3",
   "language": "python",
   "name": "python3"
  },
  "language_info": {
   "codemirror_mode": {
    "name": "ipython",
    "version": 3
   },
   "file_extension": ".py",
   "mimetype": "text/x-python",
   "name": "python",
   "nbconvert_exporter": "python",
   "pygments_lexer": "ipython3",
   "version": "3.7.6"
  }
 },
 "nbformat": 4,
 "nbformat_minor": 2
}
